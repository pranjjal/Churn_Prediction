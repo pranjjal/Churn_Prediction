{
 "cells": [
  {
   "cell_type": "code",
   "execution_count": 1,
   "id": "1a104931",
   "metadata": {
    "_cell_guid": "b1076dfc-b9ad-4769-8c92-a6c4dae69d19",
    "_uuid": "8f2839f25d086af736a60e9eeb907d3b93b6e0e5",
    "execution": {
     "iopub.execute_input": "2025-03-10T13:19:39.661876Z",
     "iopub.status.busy": "2025-03-10T13:19:39.661512Z",
     "iopub.status.idle": "2025-03-10T13:19:40.624468Z",
     "shell.execute_reply": "2025-03-10T13:19:40.623196Z"
    },
    "papermill": {
     "duration": 0.972731,
     "end_time": "2025-03-10T13:19:40.626212",
     "exception": false,
     "start_time": "2025-03-10T13:19:39.653481",
     "status": "completed"
    },
    "tags": []
   },
   "outputs": [
    {
     "name": "stdout",
     "output_type": "stream",
     "text": [
      "/kaggle/input/credit-card-customer-churn-prediction/Churn_Modelling.csv\n"
     ]
    }
   ],
   "source": [
    "# This Python 3 environment comes with many helpful analytics libraries installed\n",
    "# It is defined by the kaggle/python Docker image: https://github.com/kaggle/docker-python\n",
    "# For example, here's several helpful packages to load\n",
    "\n",
    "import numpy as np # linear algebra\n",
    "import pandas as pd # data processing, CSV file I/O (e.g. pd.read_csv)\n",
    "\n",
    "# Input data files are available in the read-only \"../input/\" directory\n",
    "# For example, running this (by clicking run or pressing Shift+Enter) will list all files under the input directory\n",
    "\n",
    "import os\n",
    "for dirname, _, filenames in os.walk('/kaggle/input'):\n",
    "    for filename in filenames:\n",
    "        print(os.path.join(dirname, filename))\n",
    "\n",
    "# You can write up to 20GB to the current directory (/kaggle/working/) that gets preserved as output when you create a version using \"Save & Run All\" \n",
    "# You can also write temporary files to /kaggle/temp/, but they won't be saved outside of the current session"
   ]
  },
  {
   "cell_type": "code",
   "execution_count": 2,
   "id": "ee68fd7b",
   "metadata": {
    "execution": {
     "iopub.execute_input": "2025-03-10T13:19:40.641604Z",
     "iopub.status.busy": "2025-03-10T13:19:40.641110Z",
     "iopub.status.idle": "2025-03-10T13:19:40.685545Z",
     "shell.execute_reply": "2025-03-10T13:19:40.684544Z"
    },
    "papermill": {
     "duration": 0.053818,
     "end_time": "2025-03-10T13:19:40.687351",
     "exception": false,
     "start_time": "2025-03-10T13:19:40.633533",
     "status": "completed"
    },
    "tags": []
   },
   "outputs": [],
   "source": [
    "df= pd.read_csv('/kaggle/input/credit-card-customer-churn-prediction/Churn_Modelling.csv')"
   ]
  },
  {
   "cell_type": "code",
   "execution_count": 3,
   "id": "5393e132",
   "metadata": {
    "execution": {
     "iopub.execute_input": "2025-03-10T13:19:40.702070Z",
     "iopub.status.busy": "2025-03-10T13:19:40.701672Z",
     "iopub.status.idle": "2025-03-10T13:19:40.731801Z",
     "shell.execute_reply": "2025-03-10T13:19:40.730922Z"
    },
    "papermill": {
     "duration": 0.039148,
     "end_time": "2025-03-10T13:19:40.733390",
     "exception": false,
     "start_time": "2025-03-10T13:19:40.694242",
     "status": "completed"
    },
    "tags": []
   },
   "outputs": [
    {
     "data": {
      "text/html": [
       "<div>\n",
       "<style scoped>\n",
       "    .dataframe tbody tr th:only-of-type {\n",
       "        vertical-align: middle;\n",
       "    }\n",
       "\n",
       "    .dataframe tbody tr th {\n",
       "        vertical-align: top;\n",
       "    }\n",
       "\n",
       "    .dataframe thead th {\n",
       "        text-align: right;\n",
       "    }\n",
       "</style>\n",
       "<table border=\"1\" class=\"dataframe\">\n",
       "  <thead>\n",
       "    <tr style=\"text-align: right;\">\n",
       "      <th></th>\n",
       "      <th>RowNumber</th>\n",
       "      <th>CustomerId</th>\n",
       "      <th>Surname</th>\n",
       "      <th>CreditScore</th>\n",
       "      <th>Geography</th>\n",
       "      <th>Gender</th>\n",
       "      <th>Age</th>\n",
       "      <th>Tenure</th>\n",
       "      <th>Balance</th>\n",
       "      <th>NumOfProducts</th>\n",
       "      <th>HasCrCard</th>\n",
       "      <th>IsActiveMember</th>\n",
       "      <th>EstimatedSalary</th>\n",
       "      <th>Exited</th>\n",
       "    </tr>\n",
       "  </thead>\n",
       "  <tbody>\n",
       "    <tr>\n",
       "      <th>0</th>\n",
       "      <td>1</td>\n",
       "      <td>15634602</td>\n",
       "      <td>Hargrave</td>\n",
       "      <td>619</td>\n",
       "      <td>France</td>\n",
       "      <td>Female</td>\n",
       "      <td>42</td>\n",
       "      <td>2</td>\n",
       "      <td>0.00</td>\n",
       "      <td>1</td>\n",
       "      <td>1</td>\n",
       "      <td>1</td>\n",
       "      <td>101348.88</td>\n",
       "      <td>1</td>\n",
       "    </tr>\n",
       "    <tr>\n",
       "      <th>1</th>\n",
       "      <td>2</td>\n",
       "      <td>15647311</td>\n",
       "      <td>Hill</td>\n",
       "      <td>608</td>\n",
       "      <td>Spain</td>\n",
       "      <td>Female</td>\n",
       "      <td>41</td>\n",
       "      <td>1</td>\n",
       "      <td>83807.86</td>\n",
       "      <td>1</td>\n",
       "      <td>0</td>\n",
       "      <td>1</td>\n",
       "      <td>112542.58</td>\n",
       "      <td>0</td>\n",
       "    </tr>\n",
       "    <tr>\n",
       "      <th>2</th>\n",
       "      <td>3</td>\n",
       "      <td>15619304</td>\n",
       "      <td>Onio</td>\n",
       "      <td>502</td>\n",
       "      <td>France</td>\n",
       "      <td>Female</td>\n",
       "      <td>42</td>\n",
       "      <td>8</td>\n",
       "      <td>159660.80</td>\n",
       "      <td>3</td>\n",
       "      <td>1</td>\n",
       "      <td>0</td>\n",
       "      <td>113931.57</td>\n",
       "      <td>1</td>\n",
       "    </tr>\n",
       "    <tr>\n",
       "      <th>3</th>\n",
       "      <td>4</td>\n",
       "      <td>15701354</td>\n",
       "      <td>Boni</td>\n",
       "      <td>699</td>\n",
       "      <td>France</td>\n",
       "      <td>Female</td>\n",
       "      <td>39</td>\n",
       "      <td>1</td>\n",
       "      <td>0.00</td>\n",
       "      <td>2</td>\n",
       "      <td>0</td>\n",
       "      <td>0</td>\n",
       "      <td>93826.63</td>\n",
       "      <td>0</td>\n",
       "    </tr>\n",
       "    <tr>\n",
       "      <th>4</th>\n",
       "      <td>5</td>\n",
       "      <td>15737888</td>\n",
       "      <td>Mitchell</td>\n",
       "      <td>850</td>\n",
       "      <td>Spain</td>\n",
       "      <td>Female</td>\n",
       "      <td>43</td>\n",
       "      <td>2</td>\n",
       "      <td>125510.82</td>\n",
       "      <td>1</td>\n",
       "      <td>1</td>\n",
       "      <td>1</td>\n",
       "      <td>79084.10</td>\n",
       "      <td>0</td>\n",
       "    </tr>\n",
       "  </tbody>\n",
       "</table>\n",
       "</div>"
      ],
      "text/plain": [
       "   RowNumber  CustomerId   Surname  CreditScore Geography  Gender  Age  \\\n",
       "0          1    15634602  Hargrave          619    France  Female   42   \n",
       "1          2    15647311      Hill          608     Spain  Female   41   \n",
       "2          3    15619304      Onio          502    France  Female   42   \n",
       "3          4    15701354      Boni          699    France  Female   39   \n",
       "4          5    15737888  Mitchell          850     Spain  Female   43   \n",
       "\n",
       "   Tenure    Balance  NumOfProducts  HasCrCard  IsActiveMember  \\\n",
       "0       2       0.00              1          1               1   \n",
       "1       1   83807.86              1          0               1   \n",
       "2       8  159660.80              3          1               0   \n",
       "3       1       0.00              2          0               0   \n",
       "4       2  125510.82              1          1               1   \n",
       "\n",
       "   EstimatedSalary  Exited  \n",
       "0        101348.88       1  \n",
       "1        112542.58       0  \n",
       "2        113931.57       1  \n",
       "3         93826.63       0  \n",
       "4         79084.10       0  "
      ]
     },
     "execution_count": 3,
     "metadata": {},
     "output_type": "execute_result"
    }
   ],
   "source": [
    "df.head()\n",
    "# print(df.shape)"
   ]
  },
  {
   "cell_type": "code",
   "execution_count": 4,
   "id": "eafa4c88",
   "metadata": {
    "execution": {
     "iopub.execute_input": "2025-03-10T13:19:40.747850Z",
     "iopub.status.busy": "2025-03-10T13:19:40.747514Z",
     "iopub.status.idle": "2025-03-10T13:19:40.777593Z",
     "shell.execute_reply": "2025-03-10T13:19:40.776434Z"
    },
    "papermill": {
     "duration": 0.039321,
     "end_time": "2025-03-10T13:19:40.779435",
     "exception": false,
     "start_time": "2025-03-10T13:19:40.740114",
     "status": "completed"
    },
    "tags": []
   },
   "outputs": [
    {
     "name": "stdout",
     "output_type": "stream",
     "text": [
      "<class 'pandas.core.frame.DataFrame'>\n",
      "RangeIndex: 10000 entries, 0 to 9999\n",
      "Data columns (total 14 columns):\n",
      " #   Column           Non-Null Count  Dtype  \n",
      "---  ------           --------------  -----  \n",
      " 0   RowNumber        10000 non-null  int64  \n",
      " 1   CustomerId       10000 non-null  int64  \n",
      " 2   Surname          10000 non-null  object \n",
      " 3   CreditScore      10000 non-null  int64  \n",
      " 4   Geography        10000 non-null  object \n",
      " 5   Gender           10000 non-null  object \n",
      " 6   Age              10000 non-null  int64  \n",
      " 7   Tenure           10000 non-null  int64  \n",
      " 8   Balance          10000 non-null  float64\n",
      " 9   NumOfProducts    10000 non-null  int64  \n",
      " 10  HasCrCard        10000 non-null  int64  \n",
      " 11  IsActiveMember   10000 non-null  int64  \n",
      " 12  EstimatedSalary  10000 non-null  float64\n",
      " 13  Exited           10000 non-null  int64  \n",
      "dtypes: float64(2), int64(9), object(3)\n",
      "memory usage: 1.1+ MB\n"
     ]
    }
   ],
   "source": [
    "df.info()"
   ]
  },
  {
   "cell_type": "code",
   "execution_count": 5,
   "id": "05665bf9",
   "metadata": {
    "execution": {
     "iopub.execute_input": "2025-03-10T13:19:40.794419Z",
     "iopub.status.busy": "2025-03-10T13:19:40.794009Z",
     "iopub.status.idle": "2025-03-10T13:19:40.806522Z",
     "shell.execute_reply": "2025-03-10T13:19:40.805466Z"
    },
    "papermill": {
     "duration": 0.021848,
     "end_time": "2025-03-10T13:19:40.808243",
     "exception": false,
     "start_time": "2025-03-10T13:19:40.786395",
     "status": "completed"
    },
    "tags": []
   },
   "outputs": [
    {
     "data": {
      "text/plain": [
       "0"
      ]
     },
     "execution_count": 5,
     "metadata": {},
     "output_type": "execute_result"
    }
   ],
   "source": [
    "df.duplicated().sum()\n",
    "#to check if there is any duplicated rows and sum them"
   ]
  },
  {
   "cell_type": "code",
   "execution_count": 6,
   "id": "eeda9d65",
   "metadata": {
    "execution": {
     "iopub.execute_input": "2025-03-10T13:19:40.823381Z",
     "iopub.status.busy": "2025-03-10T13:19:40.822977Z",
     "iopub.status.idle": "2025-03-10T13:19:40.831335Z",
     "shell.execute_reply": "2025-03-10T13:19:40.830447Z"
    },
    "papermill": {
     "duration": 0.01753,
     "end_time": "2025-03-10T13:19:40.832849",
     "exception": false,
     "start_time": "2025-03-10T13:19:40.815319",
     "status": "completed"
    },
    "tags": []
   },
   "outputs": [
    {
     "data": {
      "text/plain": [
       "Exited\n",
       "0    7963\n",
       "1    2037\n",
       "Name: count, dtype: int64"
      ]
     },
     "execution_count": 6,
     "metadata": {},
     "output_type": "execute_result"
    }
   ],
   "source": [
    "df['Exited'].value_counts()"
   ]
  },
  {
   "cell_type": "code",
   "execution_count": 7,
   "id": "b075de8b",
   "metadata": {
    "execution": {
     "iopub.execute_input": "2025-03-10T13:19:40.847889Z",
     "iopub.status.busy": "2025-03-10T13:19:40.847559Z",
     "iopub.status.idle": "2025-03-10T13:19:40.855222Z",
     "shell.execute_reply": "2025-03-10T13:19:40.854218Z"
    },
    "papermill": {
     "duration": 0.016969,
     "end_time": "2025-03-10T13:19:40.856840",
     "exception": false,
     "start_time": "2025-03-10T13:19:40.839871",
     "status": "completed"
    },
    "tags": []
   },
   "outputs": [
    {
     "data": {
      "text/plain": [
       "Geography\n",
       "France     5014\n",
       "Germany    2509\n",
       "Spain      2477\n",
       "Name: count, dtype: int64"
      ]
     },
     "execution_count": 7,
     "metadata": {},
     "output_type": "execute_result"
    }
   ],
   "source": [
    "df['Geography'].value_counts()"
   ]
  },
  {
   "cell_type": "code",
   "execution_count": 8,
   "id": "78262cff",
   "metadata": {
    "execution": {
     "iopub.execute_input": "2025-03-10T13:19:40.872476Z",
     "iopub.status.busy": "2025-03-10T13:19:40.872141Z",
     "iopub.status.idle": "2025-03-10T13:19:40.880064Z",
     "shell.execute_reply": "2025-03-10T13:19:40.878997Z"
    },
    "papermill": {
     "duration": 0.017556,
     "end_time": "2025-03-10T13:19:40.881686",
     "exception": false,
     "start_time": "2025-03-10T13:19:40.864130",
     "status": "completed"
    },
    "tags": []
   },
   "outputs": [
    {
     "data": {
      "text/plain": [
       "Gender\n",
       "Male      5457\n",
       "Female    4543\n",
       "Name: count, dtype: int64"
      ]
     },
     "execution_count": 8,
     "metadata": {},
     "output_type": "execute_result"
    }
   ],
   "source": [
    "df['Gender'].value_counts()"
   ]
  },
  {
   "cell_type": "code",
   "execution_count": 9,
   "id": "80c6a192",
   "metadata": {
    "execution": {
     "iopub.execute_input": "2025-03-10T13:19:40.897478Z",
     "iopub.status.busy": "2025-03-10T13:19:40.897118Z",
     "iopub.status.idle": "2025-03-10T13:19:40.904818Z",
     "shell.execute_reply": "2025-03-10T13:19:40.903985Z"
    },
    "papermill": {
     "duration": 0.017585,
     "end_time": "2025-03-10T13:19:40.906480",
     "exception": false,
     "start_time": "2025-03-10T13:19:40.888895",
     "status": "completed"
    },
    "tags": []
   },
   "outputs": [],
   "source": [
    "df.drop(columns=['RowNumber','CustomerId','Surname'],inplace=True)\n",
    "# to remove unwanted clmn "
   ]
  },
  {
   "cell_type": "code",
   "execution_count": 10,
   "id": "b3a2aa1e",
   "metadata": {
    "execution": {
     "iopub.execute_input": "2025-03-10T13:19:40.922169Z",
     "iopub.status.busy": "2025-03-10T13:19:40.921778Z",
     "iopub.status.idle": "2025-03-10T13:19:40.934273Z",
     "shell.execute_reply": "2025-03-10T13:19:40.933313Z"
    },
    "papermill": {
     "duration": 0.022183,
     "end_time": "2025-03-10T13:19:40.935829",
     "exception": false,
     "start_time": "2025-03-10T13:19:40.913646",
     "status": "completed"
    },
    "tags": []
   },
   "outputs": [
    {
     "data": {
      "text/html": [
       "<div>\n",
       "<style scoped>\n",
       "    .dataframe tbody tr th:only-of-type {\n",
       "        vertical-align: middle;\n",
       "    }\n",
       "\n",
       "    .dataframe tbody tr th {\n",
       "        vertical-align: top;\n",
       "    }\n",
       "\n",
       "    .dataframe thead th {\n",
       "        text-align: right;\n",
       "    }\n",
       "</style>\n",
       "<table border=\"1\" class=\"dataframe\">\n",
       "  <thead>\n",
       "    <tr style=\"text-align: right;\">\n",
       "      <th></th>\n",
       "      <th>CreditScore</th>\n",
       "      <th>Geography</th>\n",
       "      <th>Gender</th>\n",
       "      <th>Age</th>\n",
       "      <th>Tenure</th>\n",
       "      <th>Balance</th>\n",
       "      <th>NumOfProducts</th>\n",
       "      <th>HasCrCard</th>\n",
       "      <th>IsActiveMember</th>\n",
       "      <th>EstimatedSalary</th>\n",
       "      <th>Exited</th>\n",
       "    </tr>\n",
       "  </thead>\n",
       "  <tbody>\n",
       "    <tr>\n",
       "      <th>0</th>\n",
       "      <td>619</td>\n",
       "      <td>France</td>\n",
       "      <td>Female</td>\n",
       "      <td>42</td>\n",
       "      <td>2</td>\n",
       "      <td>0.00</td>\n",
       "      <td>1</td>\n",
       "      <td>1</td>\n",
       "      <td>1</td>\n",
       "      <td>101348.88</td>\n",
       "      <td>1</td>\n",
       "    </tr>\n",
       "    <tr>\n",
       "      <th>1</th>\n",
       "      <td>608</td>\n",
       "      <td>Spain</td>\n",
       "      <td>Female</td>\n",
       "      <td>41</td>\n",
       "      <td>1</td>\n",
       "      <td>83807.86</td>\n",
       "      <td>1</td>\n",
       "      <td>0</td>\n",
       "      <td>1</td>\n",
       "      <td>112542.58</td>\n",
       "      <td>0</td>\n",
       "    </tr>\n",
       "    <tr>\n",
       "      <th>2</th>\n",
       "      <td>502</td>\n",
       "      <td>France</td>\n",
       "      <td>Female</td>\n",
       "      <td>42</td>\n",
       "      <td>8</td>\n",
       "      <td>159660.80</td>\n",
       "      <td>3</td>\n",
       "      <td>1</td>\n",
       "      <td>0</td>\n",
       "      <td>113931.57</td>\n",
       "      <td>1</td>\n",
       "    </tr>\n",
       "    <tr>\n",
       "      <th>3</th>\n",
       "      <td>699</td>\n",
       "      <td>France</td>\n",
       "      <td>Female</td>\n",
       "      <td>39</td>\n",
       "      <td>1</td>\n",
       "      <td>0.00</td>\n",
       "      <td>2</td>\n",
       "      <td>0</td>\n",
       "      <td>0</td>\n",
       "      <td>93826.63</td>\n",
       "      <td>0</td>\n",
       "    </tr>\n",
       "    <tr>\n",
       "      <th>4</th>\n",
       "      <td>850</td>\n",
       "      <td>Spain</td>\n",
       "      <td>Female</td>\n",
       "      <td>43</td>\n",
       "      <td>2</td>\n",
       "      <td>125510.82</td>\n",
       "      <td>1</td>\n",
       "      <td>1</td>\n",
       "      <td>1</td>\n",
       "      <td>79084.10</td>\n",
       "      <td>0</td>\n",
       "    </tr>\n",
       "  </tbody>\n",
       "</table>\n",
       "</div>"
      ],
      "text/plain": [
       "   CreditScore Geography  Gender  Age  Tenure    Balance  NumOfProducts  \\\n",
       "0          619    France  Female   42       2       0.00              1   \n",
       "1          608     Spain  Female   41       1   83807.86              1   \n",
       "2          502    France  Female   42       8  159660.80              3   \n",
       "3          699    France  Female   39       1       0.00              2   \n",
       "4          850     Spain  Female   43       2  125510.82              1   \n",
       "\n",
       "   HasCrCard  IsActiveMember  EstimatedSalary  Exited  \n",
       "0          1               1        101348.88       1  \n",
       "1          0               1        112542.58       0  \n",
       "2          1               0        113931.57       1  \n",
       "3          0               0         93826.63       0  \n",
       "4          1               1         79084.10       0  "
      ]
     },
     "execution_count": 10,
     "metadata": {},
     "output_type": "execute_result"
    }
   ],
   "source": [
    "df.head()"
   ]
  },
  {
   "cell_type": "code",
   "execution_count": 11,
   "id": "9cac4c6b",
   "metadata": {
    "execution": {
     "iopub.execute_input": "2025-03-10T13:19:40.951751Z",
     "iopub.status.busy": "2025-03-10T13:19:40.951441Z",
     "iopub.status.idle": "2025-03-10T13:19:40.962394Z",
     "shell.execute_reply": "2025-03-10T13:19:40.961533Z"
    },
    "papermill": {
     "duration": 0.020588,
     "end_time": "2025-03-10T13:19:40.963911",
     "exception": false,
     "start_time": "2025-03-10T13:19:40.943323",
     "status": "completed"
    },
    "tags": []
   },
   "outputs": [],
   "source": [
    "# to one-hot-encode the categorical columns\n",
    "df= pd.get_dummies(df,columns=['Geography','Gender'], drop_first=True)"
   ]
  },
  {
   "cell_type": "code",
   "execution_count": 12,
   "id": "55c8b6a7",
   "metadata": {
    "execution": {
     "iopub.execute_input": "2025-03-10T13:19:40.979750Z",
     "iopub.status.busy": "2025-03-10T13:19:40.979437Z",
     "iopub.status.idle": "2025-03-10T13:19:40.984603Z",
     "shell.execute_reply": "2025-03-10T13:19:40.983350Z"
    },
    "papermill": {
     "duration": 0.015214,
     "end_time": "2025-03-10T13:19:40.986440",
     "exception": false,
     "start_time": "2025-03-10T13:19:40.971226",
     "status": "completed"
    },
    "tags": []
   },
   "outputs": [
    {
     "name": "stdout",
     "output_type": "stream",
     "text": [
      "Index(['CreditScore', 'Age', 'Tenure', 'Balance', 'NumOfProducts', 'HasCrCard',\n",
      "       'IsActiveMember', 'EstimatedSalary', 'Exited', 'Geography_Germany',\n",
      "       'Geography_Spain', 'Gender_Male'],\n",
      "      dtype='object')\n"
     ]
    }
   ],
   "source": [
    "print(df.columns)"
   ]
  },
  {
   "cell_type": "code",
   "execution_count": 13,
   "id": "47a27808",
   "metadata": {
    "execution": {
     "iopub.execute_input": "2025-03-10T13:19:41.003714Z",
     "iopub.status.busy": "2025-03-10T13:19:41.003374Z",
     "iopub.status.idle": "2025-03-10T13:19:42.540236Z",
     "shell.execute_reply": "2025-03-10T13:19:42.539185Z"
    },
    "papermill": {
     "duration": 1.547689,
     "end_time": "2025-03-10T13:19:42.542093",
     "exception": false,
     "start_time": "2025-03-10T13:19:40.994404",
     "status": "completed"
    },
    "tags": []
   },
   "outputs": [],
   "source": [
    "X= df.drop(columns=['Exited'])\n",
    "y=df['Exited']\n",
    "from sklearn.model_selection import train_test_split\n",
    "X_train,X_test,y_train,y_test=train_test_split(X,y,test_size=0.2,random_state=1)"
   ]
  },
  {
   "cell_type": "code",
   "execution_count": 14,
   "id": "02c1593c",
   "metadata": {
    "execution": {
     "iopub.execute_input": "2025-03-10T13:19:42.558457Z",
     "iopub.status.busy": "2025-03-10T13:19:42.557925Z",
     "iopub.status.idle": "2025-03-10T13:19:42.576476Z",
     "shell.execute_reply": "2025-03-10T13:19:42.575514Z"
    },
    "papermill": {
     "duration": 0.028197,
     "end_time": "2025-03-10T13:19:42.577944",
     "exception": false,
     "start_time": "2025-03-10T13:19:42.549747",
     "status": "completed"
    },
    "tags": []
   },
   "outputs": [
    {
     "data": {
      "text/html": [
       "<div>\n",
       "<style scoped>\n",
       "    .dataframe tbody tr th:only-of-type {\n",
       "        vertical-align: middle;\n",
       "    }\n",
       "\n",
       "    .dataframe tbody tr th {\n",
       "        vertical-align: top;\n",
       "    }\n",
       "\n",
       "    .dataframe thead th {\n",
       "        text-align: right;\n",
       "    }\n",
       "</style>\n",
       "<table border=\"1\" class=\"dataframe\">\n",
       "  <thead>\n",
       "    <tr style=\"text-align: right;\">\n",
       "      <th></th>\n",
       "      <th>CreditScore</th>\n",
       "      <th>Age</th>\n",
       "      <th>Tenure</th>\n",
       "      <th>Balance</th>\n",
       "      <th>NumOfProducts</th>\n",
       "      <th>HasCrCard</th>\n",
       "      <th>IsActiveMember</th>\n",
       "      <th>EstimatedSalary</th>\n",
       "      <th>Geography_Germany</th>\n",
       "      <th>Geography_Spain</th>\n",
       "      <th>Gender_Male</th>\n",
       "    </tr>\n",
       "  </thead>\n",
       "  <tbody>\n",
       "    <tr>\n",
       "      <th>0</th>\n",
       "      <td>619</td>\n",
       "      <td>42</td>\n",
       "      <td>2</td>\n",
       "      <td>0.00</td>\n",
       "      <td>1</td>\n",
       "      <td>1</td>\n",
       "      <td>1</td>\n",
       "      <td>101348.88</td>\n",
       "      <td>False</td>\n",
       "      <td>False</td>\n",
       "      <td>False</td>\n",
       "    </tr>\n",
       "    <tr>\n",
       "      <th>1</th>\n",
       "      <td>608</td>\n",
       "      <td>41</td>\n",
       "      <td>1</td>\n",
       "      <td>83807.86</td>\n",
       "      <td>1</td>\n",
       "      <td>0</td>\n",
       "      <td>1</td>\n",
       "      <td>112542.58</td>\n",
       "      <td>False</td>\n",
       "      <td>True</td>\n",
       "      <td>False</td>\n",
       "    </tr>\n",
       "    <tr>\n",
       "      <th>2</th>\n",
       "      <td>502</td>\n",
       "      <td>42</td>\n",
       "      <td>8</td>\n",
       "      <td>159660.80</td>\n",
       "      <td>3</td>\n",
       "      <td>1</td>\n",
       "      <td>0</td>\n",
       "      <td>113931.57</td>\n",
       "      <td>False</td>\n",
       "      <td>False</td>\n",
       "      <td>False</td>\n",
       "    </tr>\n",
       "    <tr>\n",
       "      <th>3</th>\n",
       "      <td>699</td>\n",
       "      <td>39</td>\n",
       "      <td>1</td>\n",
       "      <td>0.00</td>\n",
       "      <td>2</td>\n",
       "      <td>0</td>\n",
       "      <td>0</td>\n",
       "      <td>93826.63</td>\n",
       "      <td>False</td>\n",
       "      <td>False</td>\n",
       "      <td>False</td>\n",
       "    </tr>\n",
       "    <tr>\n",
       "      <th>4</th>\n",
       "      <td>850</td>\n",
       "      <td>43</td>\n",
       "      <td>2</td>\n",
       "      <td>125510.82</td>\n",
       "      <td>1</td>\n",
       "      <td>1</td>\n",
       "      <td>1</td>\n",
       "      <td>79084.10</td>\n",
       "      <td>False</td>\n",
       "      <td>True</td>\n",
       "      <td>False</td>\n",
       "    </tr>\n",
       "    <tr>\n",
       "      <th>...</th>\n",
       "      <td>...</td>\n",
       "      <td>...</td>\n",
       "      <td>...</td>\n",
       "      <td>...</td>\n",
       "      <td>...</td>\n",
       "      <td>...</td>\n",
       "      <td>...</td>\n",
       "      <td>...</td>\n",
       "      <td>...</td>\n",
       "      <td>...</td>\n",
       "      <td>...</td>\n",
       "    </tr>\n",
       "    <tr>\n",
       "      <th>9995</th>\n",
       "      <td>771</td>\n",
       "      <td>39</td>\n",
       "      <td>5</td>\n",
       "      <td>0.00</td>\n",
       "      <td>2</td>\n",
       "      <td>1</td>\n",
       "      <td>0</td>\n",
       "      <td>96270.64</td>\n",
       "      <td>False</td>\n",
       "      <td>False</td>\n",
       "      <td>True</td>\n",
       "    </tr>\n",
       "    <tr>\n",
       "      <th>9996</th>\n",
       "      <td>516</td>\n",
       "      <td>35</td>\n",
       "      <td>10</td>\n",
       "      <td>57369.61</td>\n",
       "      <td>1</td>\n",
       "      <td>1</td>\n",
       "      <td>1</td>\n",
       "      <td>101699.77</td>\n",
       "      <td>False</td>\n",
       "      <td>False</td>\n",
       "      <td>True</td>\n",
       "    </tr>\n",
       "    <tr>\n",
       "      <th>9997</th>\n",
       "      <td>709</td>\n",
       "      <td>36</td>\n",
       "      <td>7</td>\n",
       "      <td>0.00</td>\n",
       "      <td>1</td>\n",
       "      <td>0</td>\n",
       "      <td>1</td>\n",
       "      <td>42085.58</td>\n",
       "      <td>False</td>\n",
       "      <td>False</td>\n",
       "      <td>False</td>\n",
       "    </tr>\n",
       "    <tr>\n",
       "      <th>9998</th>\n",
       "      <td>772</td>\n",
       "      <td>42</td>\n",
       "      <td>3</td>\n",
       "      <td>75075.31</td>\n",
       "      <td>2</td>\n",
       "      <td>1</td>\n",
       "      <td>0</td>\n",
       "      <td>92888.52</td>\n",
       "      <td>True</td>\n",
       "      <td>False</td>\n",
       "      <td>True</td>\n",
       "    </tr>\n",
       "    <tr>\n",
       "      <th>9999</th>\n",
       "      <td>792</td>\n",
       "      <td>28</td>\n",
       "      <td>4</td>\n",
       "      <td>130142.79</td>\n",
       "      <td>1</td>\n",
       "      <td>1</td>\n",
       "      <td>0</td>\n",
       "      <td>38190.78</td>\n",
       "      <td>False</td>\n",
       "      <td>False</td>\n",
       "      <td>False</td>\n",
       "    </tr>\n",
       "  </tbody>\n",
       "</table>\n",
       "<p>10000 rows × 11 columns</p>\n",
       "</div>"
      ],
      "text/plain": [
       "      CreditScore  Age  Tenure    Balance  NumOfProducts  HasCrCard  \\\n",
       "0             619   42       2       0.00              1          1   \n",
       "1             608   41       1   83807.86              1          0   \n",
       "2             502   42       8  159660.80              3          1   \n",
       "3             699   39       1       0.00              2          0   \n",
       "4             850   43       2  125510.82              1          1   \n",
       "...           ...  ...     ...        ...            ...        ...   \n",
       "9995          771   39       5       0.00              2          1   \n",
       "9996          516   35      10   57369.61              1          1   \n",
       "9997          709   36       7       0.00              1          0   \n",
       "9998          772   42       3   75075.31              2          1   \n",
       "9999          792   28       4  130142.79              1          1   \n",
       "\n",
       "      IsActiveMember  EstimatedSalary  Geography_Germany  Geography_Spain  \\\n",
       "0                  1        101348.88              False            False   \n",
       "1                  1        112542.58              False             True   \n",
       "2                  0        113931.57              False            False   \n",
       "3                  0         93826.63              False            False   \n",
       "4                  1         79084.10              False             True   \n",
       "...              ...              ...                ...              ...   \n",
       "9995               0         96270.64              False            False   \n",
       "9996               1        101699.77              False            False   \n",
       "9997               1         42085.58              False            False   \n",
       "9998               0         92888.52               True            False   \n",
       "9999               0         38190.78              False            False   \n",
       "\n",
       "      Gender_Male  \n",
       "0           False  \n",
       "1           False  \n",
       "2           False  \n",
       "3           False  \n",
       "4           False  \n",
       "...           ...  \n",
       "9995         True  \n",
       "9996         True  \n",
       "9997        False  \n",
       "9998         True  \n",
       "9999        False  \n",
       "\n",
       "[10000 rows x 11 columns]"
      ]
     },
     "execution_count": 14,
     "metadata": {},
     "output_type": "execute_result"
    }
   ],
   "source": [
    "X"
   ]
  },
  {
   "cell_type": "code",
   "execution_count": 15,
   "id": "765e3f34",
   "metadata": {
    "execution": {
     "iopub.execute_input": "2025-03-10T13:19:42.594948Z",
     "iopub.status.busy": "2025-03-10T13:19:42.594565Z",
     "iopub.status.idle": "2025-03-10T13:19:42.601255Z",
     "shell.execute_reply": "2025-03-10T13:19:42.600417Z"
    },
    "papermill": {
     "duration": 0.017009,
     "end_time": "2025-03-10T13:19:42.602769",
     "exception": false,
     "start_time": "2025-03-10T13:19:42.585760",
     "status": "completed"
    },
    "tags": []
   },
   "outputs": [
    {
     "data": {
      "text/plain": [
       "0       1\n",
       "1       0\n",
       "2       1\n",
       "3       0\n",
       "4       0\n",
       "       ..\n",
       "9995    0\n",
       "9996    0\n",
       "9997    1\n",
       "9998    1\n",
       "9999    0\n",
       "Name: Exited, Length: 10000, dtype: int64"
      ]
     },
     "execution_count": 15,
     "metadata": {},
     "output_type": "execute_result"
    }
   ],
   "source": [
    "y"
   ]
  },
  {
   "cell_type": "code",
   "execution_count": 16,
   "id": "ca0b02af",
   "metadata": {
    "execution": {
     "iopub.execute_input": "2025-03-10T13:19:42.619787Z",
     "iopub.status.busy": "2025-03-10T13:19:42.619460Z",
     "iopub.status.idle": "2025-03-10T13:19:42.624767Z",
     "shell.execute_reply": "2025-03-10T13:19:42.623835Z"
    },
    "papermill": {
     "duration": 0.015616,
     "end_time": "2025-03-10T13:19:42.626429",
     "exception": false,
     "start_time": "2025-03-10T13:19:42.610813",
     "status": "completed"
    },
    "tags": []
   },
   "outputs": [
    {
     "data": {
      "text/plain": [
       "(8000, 11)"
      ]
     },
     "execution_count": 16,
     "metadata": {},
     "output_type": "execute_result"
    }
   ],
   "source": [
    "X_train.shape"
   ]
  },
  {
   "cell_type": "code",
   "execution_count": 17,
   "id": "d4e0940f",
   "metadata": {
    "execution": {
     "iopub.execute_input": "2025-03-10T13:19:42.644116Z",
     "iopub.status.busy": "2025-03-10T13:19:42.643507Z",
     "iopub.status.idle": "2025-03-10T13:19:42.674479Z",
     "shell.execute_reply": "2025-03-10T13:19:42.673412Z"
    },
    "papermill": {
     "duration": 0.041989,
     "end_time": "2025-03-10T13:19:42.676483",
     "exception": false,
     "start_time": "2025-03-10T13:19:42.634494",
     "status": "completed"
    },
    "tags": []
   },
   "outputs": [],
   "source": [
    "from sklearn.preprocessing import StandardScaler\n",
    "scaler = StandardScaler()\n",
    "\n",
    "X_train_scaled = scaler.fit_transform(X_train)\n",
    "X_test_scaled = scaler.transform(X_test)"
   ]
  },
  {
   "cell_type": "code",
   "execution_count": 18,
   "id": "3a4e9c38",
   "metadata": {
    "execution": {
     "iopub.execute_input": "2025-03-10T13:19:42.693731Z",
     "iopub.status.busy": "2025-03-10T13:19:42.693386Z",
     "iopub.status.idle": "2025-03-10T13:19:42.699549Z",
     "shell.execute_reply": "2025-03-10T13:19:42.698668Z"
    },
    "papermill": {
     "duration": 0.016653,
     "end_time": "2025-03-10T13:19:42.701112",
     "exception": false,
     "start_time": "2025-03-10T13:19:42.684459",
     "status": "completed"
    },
    "tags": []
   },
   "outputs": [
    {
     "data": {
      "text/plain": [
       "array([[-0.23082038, -0.94449979, -0.70174202, ...,  1.71490137,\n",
       "        -0.57273139,  0.91509065],\n",
       "       [-0.25150912, -0.94449979, -0.35520275, ..., -0.58312392,\n",
       "        -0.57273139, -1.09278791],\n",
       "       [-0.3963303 ,  0.77498705,  0.33787579, ...,  1.71490137,\n",
       "        -0.57273139, -1.09278791],\n",
       "       ...,\n",
       "       [ 0.22433188,  0.58393295,  1.3774936 , ..., -0.58312392,\n",
       "        -0.57273139, -1.09278791],\n",
       "       [ 0.13123255,  0.01077067,  1.03095433, ..., -0.58312392,\n",
       "        -0.57273139, -1.09278791],\n",
       "       [ 1.1656695 ,  0.29735181,  0.33787579, ...,  1.71490137,\n",
       "        -0.57273139,  0.91509065]])"
      ]
     },
     "execution_count": 18,
     "metadata": {},
     "output_type": "execute_result"
    }
   ],
   "source": [
    "X_train_scaled"
   ]
  },
  {
   "cell_type": "code",
   "execution_count": 19,
   "id": "b5c35396",
   "metadata": {
    "execution": {
     "iopub.execute_input": "2025-03-10T13:19:42.719164Z",
     "iopub.status.busy": "2025-03-10T13:19:42.718750Z",
     "iopub.status.idle": "2025-03-10T13:19:58.014197Z",
     "shell.execute_reply": "2025-03-10T13:19:58.013185Z"
    },
    "papermill": {
     "duration": 15.306682,
     "end_time": "2025-03-10T13:19:58.016166",
     "exception": false,
     "start_time": "2025-03-10T13:19:42.709484",
     "status": "completed"
    },
    "tags": []
   },
   "outputs": [],
   "source": [
    "import tensorflow \n",
    "from tensorflow import keras\n",
    "from tensorflow.keras import Sequential\n",
    "from tensorflow.keras.layers import Dense"
   ]
  },
  {
   "cell_type": "code",
   "execution_count": 20,
   "id": "30415fe1",
   "metadata": {
    "execution": {
     "iopub.execute_input": "2025-03-10T13:19:58.034118Z",
     "iopub.status.busy": "2025-03-10T13:19:58.033463Z",
     "iopub.status.idle": "2025-03-10T13:19:58.117520Z",
     "shell.execute_reply": "2025-03-10T13:19:58.116353Z"
    },
    "papermill": {
     "duration": 0.094901,
     "end_time": "2025-03-10T13:19:58.119306",
     "exception": false,
     "start_time": "2025-03-10T13:19:58.024405",
     "status": "completed"
    },
    "tags": []
   },
   "outputs": [
    {
     "name": "stderr",
     "output_type": "stream",
     "text": [
      "/usr/local/lib/python3.10/dist-packages/keras/src/layers/core/dense.py:87: UserWarning: Do not pass an `input_shape`/`input_dim` argument to a layer. When using Sequential models, prefer using an `Input(shape)` object as the first layer in the model instead.\n",
      "  super().__init__(activity_regularizer=activity_regularizer, **kwargs)\n"
     ]
    }
   ],
   "source": [
    "model= Sequential() #making an obj of this cls\n",
    "model.add(Dense(3,activation='sigmoid',input_dim=11))\n",
    "model.add(Dense(1,activation='sigmoid'))\n",
    "#here we add layers nd form the neural network"
   ]
  },
  {
   "cell_type": "code",
   "execution_count": 21,
   "id": "7809244f",
   "metadata": {
    "execution": {
     "iopub.execute_input": "2025-03-10T13:19:58.136929Z",
     "iopub.status.busy": "2025-03-10T13:19:58.136557Z",
     "iopub.status.idle": "2025-03-10T13:19:58.153118Z",
     "shell.execute_reply": "2025-03-10T13:19:58.152132Z"
    },
    "papermill": {
     "duration": 0.027193,
     "end_time": "2025-03-10T13:19:58.154674",
     "exception": false,
     "start_time": "2025-03-10T13:19:58.127481",
     "status": "completed"
    },
    "tags": []
   },
   "outputs": [
    {
     "data": {
      "text/html": [
       "<pre style=\"white-space:pre;overflow-x:auto;line-height:normal;font-family:Menlo,'DejaVu Sans Mono',consolas,'Courier New',monospace\"><span style=\"font-weight: bold\">Model: \"sequential\"</span>\n",
       "</pre>\n"
      ],
      "text/plain": [
       "\u001b[1mModel: \"sequential\"\u001b[0m\n"
      ]
     },
     "metadata": {},
     "output_type": "display_data"
    },
    {
     "data": {
      "text/html": [
       "<pre style=\"white-space:pre;overflow-x:auto;line-height:normal;font-family:Menlo,'DejaVu Sans Mono',consolas,'Courier New',monospace\">┏━━━━━━━━━━━━━━━━━━━━━━━━━━━━━━━━━━━━━━┳━━━━━━━━━━━━━━━━━━━━━━━━━━━━━┳━━━━━━━━━━━━━━━━━┓\n",
       "┃<span style=\"font-weight: bold\"> Layer (type)                         </span>┃<span style=\"font-weight: bold\"> Output Shape                </span>┃<span style=\"font-weight: bold\">         Param # </span>┃\n",
       "┡━━━━━━━━━━━━━━━━━━━━━━━━━━━━━━━━━━━━━━╇━━━━━━━━━━━━━━━━━━━━━━━━━━━━━╇━━━━━━━━━━━━━━━━━┩\n",
       "│ dense (<span style=\"color: #0087ff; text-decoration-color: #0087ff\">Dense</span>)                        │ (<span style=\"color: #00d7ff; text-decoration-color: #00d7ff\">None</span>, <span style=\"color: #00af00; text-decoration-color: #00af00\">3</span>)                   │              <span style=\"color: #00af00; text-decoration-color: #00af00\">36</span> │\n",
       "├──────────────────────────────────────┼─────────────────────────────┼─────────────────┤\n",
       "│ dense_1 (<span style=\"color: #0087ff; text-decoration-color: #0087ff\">Dense</span>)                      │ (<span style=\"color: #00d7ff; text-decoration-color: #00d7ff\">None</span>, <span style=\"color: #00af00; text-decoration-color: #00af00\">1</span>)                   │               <span style=\"color: #00af00; text-decoration-color: #00af00\">4</span> │\n",
       "└──────────────────────────────────────┴─────────────────────────────┴─────────────────┘\n",
       "</pre>\n"
      ],
      "text/plain": [
       "┏━━━━━━━━━━━━━━━━━━━━━━━━━━━━━━━━━━━━━━┳━━━━━━━━━━━━━━━━━━━━━━━━━━━━━┳━━━━━━━━━━━━━━━━━┓\n",
       "┃\u001b[1m \u001b[0m\u001b[1mLayer (type)                        \u001b[0m\u001b[1m \u001b[0m┃\u001b[1m \u001b[0m\u001b[1mOutput Shape               \u001b[0m\u001b[1m \u001b[0m┃\u001b[1m \u001b[0m\u001b[1m        Param #\u001b[0m\u001b[1m \u001b[0m┃\n",
       "┡━━━━━━━━━━━━━━━━━━━━━━━━━━━━━━━━━━━━━━╇━━━━━━━━━━━━━━━━━━━━━━━━━━━━━╇━━━━━━━━━━━━━━━━━┩\n",
       "│ dense (\u001b[38;5;33mDense\u001b[0m)                        │ (\u001b[38;5;45mNone\u001b[0m, \u001b[38;5;34m3\u001b[0m)                   │              \u001b[38;5;34m36\u001b[0m │\n",
       "├──────────────────────────────────────┼─────────────────────────────┼─────────────────┤\n",
       "│ dense_1 (\u001b[38;5;33mDense\u001b[0m)                      │ (\u001b[38;5;45mNone\u001b[0m, \u001b[38;5;34m1\u001b[0m)                   │               \u001b[38;5;34m4\u001b[0m │\n",
       "└──────────────────────────────────────┴─────────────────────────────┴─────────────────┘\n"
      ]
     },
     "metadata": {},
     "output_type": "display_data"
    },
    {
     "data": {
      "text/html": [
       "<pre style=\"white-space:pre;overflow-x:auto;line-height:normal;font-family:Menlo,'DejaVu Sans Mono',consolas,'Courier New',monospace\"><span style=\"font-weight: bold\"> Total params: </span><span style=\"color: #00af00; text-decoration-color: #00af00\">40</span> (160.00 B)\n",
       "</pre>\n"
      ],
      "text/plain": [
       "\u001b[1m Total params: \u001b[0m\u001b[38;5;34m40\u001b[0m (160.00 B)\n"
      ]
     },
     "metadata": {},
     "output_type": "display_data"
    },
    {
     "data": {
      "text/html": [
       "<pre style=\"white-space:pre;overflow-x:auto;line-height:normal;font-family:Menlo,'DejaVu Sans Mono',consolas,'Courier New',monospace\"><span style=\"font-weight: bold\"> Trainable params: </span><span style=\"color: #00af00; text-decoration-color: #00af00\">40</span> (160.00 B)\n",
       "</pre>\n"
      ],
      "text/plain": [
       "\u001b[1m Trainable params: \u001b[0m\u001b[38;5;34m40\u001b[0m (160.00 B)\n"
      ]
     },
     "metadata": {},
     "output_type": "display_data"
    },
    {
     "data": {
      "text/html": [
       "<pre style=\"white-space:pre;overflow-x:auto;line-height:normal;font-family:Menlo,'DejaVu Sans Mono',consolas,'Courier New',monospace\"><span style=\"font-weight: bold\"> Non-trainable params: </span><span style=\"color: #00af00; text-decoration-color: #00af00\">0</span> (0.00 B)\n",
       "</pre>\n"
      ],
      "text/plain": [
       "\u001b[1m Non-trainable params: \u001b[0m\u001b[38;5;34m0\u001b[0m (0.00 B)\n"
      ]
     },
     "metadata": {},
     "output_type": "display_data"
    }
   ],
   "source": [
    "model.summary()"
   ]
  },
  {
   "cell_type": "markdown",
   "id": "570d09bc",
   "metadata": {
    "papermill": {
     "duration": 0.008274,
     "end_time": "2025-03-10T13:19:58.171790",
     "exception": false,
     "start_time": "2025-03-10T13:19:58.163516",
     "status": "completed"
    },
    "tags": []
   },
   "source": [
    "Ab krna h model compile."
   ]
  },
  {
   "cell_type": "code",
   "execution_count": 22,
   "id": "4fdbf292",
   "metadata": {
    "execution": {
     "iopub.execute_input": "2025-03-10T13:19:58.190528Z",
     "iopub.status.busy": "2025-03-10T13:19:58.190173Z",
     "iopub.status.idle": "2025-03-10T13:19:58.202971Z",
     "shell.execute_reply": "2025-03-10T13:19:58.202084Z"
    },
    "papermill": {
     "duration": 0.024286,
     "end_time": "2025-03-10T13:19:58.204705",
     "exception": false,
     "start_time": "2025-03-10T13:19:58.180419",
     "status": "completed"
    },
    "tags": []
   },
   "outputs": [],
   "source": [
    "model.compile(optimizer='Adam',loss='binary_crossentropy')"
   ]
  },
  {
   "cell_type": "code",
   "execution_count": 23,
   "id": "8b476937",
   "metadata": {
    "execution": {
     "iopub.execute_input": "2025-03-10T13:19:58.223764Z",
     "iopub.status.busy": "2025-03-10T13:19:58.223426Z",
     "iopub.status.idle": "2025-03-10T13:20:29.988909Z",
     "shell.execute_reply": "2025-03-10T13:20:29.987807Z"
    },
    "papermill": {
     "duration": 31.777127,
     "end_time": "2025-03-10T13:20:29.990950",
     "exception": false,
     "start_time": "2025-03-10T13:19:58.213823",
     "status": "completed"
    },
    "tags": []
   },
   "outputs": [
    {
     "name": "stdout",
     "output_type": "stream",
     "text": [
      "Epoch 1/100\n",
      "\u001b[1m200/200\u001b[0m \u001b[32m━━━━━━━━━━━━━━━━━━━━\u001b[0m\u001b[37m\u001b[0m \u001b[1m1s\u001b[0m 2ms/step - loss: 0.5147 - val_loss: 0.4857\n",
      "Epoch 2/100\n",
      "\u001b[1m200/200\u001b[0m \u001b[32m━━━━━━━━━━━━━━━━━━━━\u001b[0m\u001b[37m\u001b[0m \u001b[1m0s\u001b[0m 1ms/step - loss: 0.4808 - val_loss: 0.4685\n",
      "Epoch 3/100\n",
      "\u001b[1m200/200\u001b[0m \u001b[32m━━━━━━━━━━━━━━━━━━━━\u001b[0m\u001b[37m\u001b[0m \u001b[1m0s\u001b[0m 1ms/step - loss: 0.4552 - val_loss: 0.4592\n",
      "Epoch 4/100\n",
      "\u001b[1m200/200\u001b[0m \u001b[32m━━━━━━━━━━━━━━━━━━━━\u001b[0m\u001b[37m\u001b[0m \u001b[1m0s\u001b[0m 1ms/step - loss: 0.4647 - val_loss: 0.4524\n",
      "Epoch 5/100\n",
      "\u001b[1m200/200\u001b[0m \u001b[32m━━━━━━━━━━━━━━━━━━━━\u001b[0m\u001b[37m\u001b[0m \u001b[1m0s\u001b[0m 1ms/step - loss: 0.4551 - val_loss: 0.4474\n",
      "Epoch 6/100\n",
      "\u001b[1m200/200\u001b[0m \u001b[32m━━━━━━━━━━━━━━━━━━━━\u001b[0m\u001b[37m\u001b[0m \u001b[1m0s\u001b[0m 1ms/step - loss: 0.4334 - val_loss: 0.4435\n",
      "Epoch 7/100\n",
      "\u001b[1m200/200\u001b[0m \u001b[32m━━━━━━━━━━━━━━━━━━━━\u001b[0m\u001b[37m\u001b[0m \u001b[1m0s\u001b[0m 1ms/step - loss: 0.4392 - val_loss: 0.4406\n",
      "Epoch 8/100\n",
      "\u001b[1m200/200\u001b[0m \u001b[32m━━━━━━━━━━━━━━━━━━━━\u001b[0m\u001b[37m\u001b[0m \u001b[1m0s\u001b[0m 1ms/step - loss: 0.4351 - val_loss: 0.4383\n",
      "Epoch 9/100\n",
      "\u001b[1m200/200\u001b[0m \u001b[32m━━━━━━━━━━━━━━━━━━━━\u001b[0m\u001b[37m\u001b[0m \u001b[1m0s\u001b[0m 1ms/step - loss: 0.4351 - val_loss: 0.4363\n",
      "Epoch 10/100\n",
      "\u001b[1m200/200\u001b[0m \u001b[32m━━━━━━━━━━━━━━━━━━━━\u001b[0m\u001b[37m\u001b[0m \u001b[1m0s\u001b[0m 1ms/step - loss: 0.4279 - val_loss: 0.4349\n",
      "Epoch 11/100\n",
      "\u001b[1m200/200\u001b[0m \u001b[32m━━━━━━━━━━━━━━━━━━━━\u001b[0m\u001b[37m\u001b[0m \u001b[1m0s\u001b[0m 1ms/step - loss: 0.4317 - val_loss: 0.4336\n",
      "Epoch 12/100\n",
      "\u001b[1m200/200\u001b[0m \u001b[32m━━━━━━━━━━━━━━━━━━━━\u001b[0m\u001b[37m\u001b[0m \u001b[1m0s\u001b[0m 1ms/step - loss: 0.4225 - val_loss: 0.4325\n",
      "Epoch 13/100\n",
      "\u001b[1m200/200\u001b[0m \u001b[32m━━━━━━━━━━━━━━━━━━━━\u001b[0m\u001b[37m\u001b[0m \u001b[1m0s\u001b[0m 1ms/step - loss: 0.4194 - val_loss: 0.4315\n",
      "Epoch 14/100\n",
      "\u001b[1m200/200\u001b[0m \u001b[32m━━━━━━━━━━━━━━━━━━━━\u001b[0m\u001b[37m\u001b[0m \u001b[1m0s\u001b[0m 1ms/step - loss: 0.4289 - val_loss: 0.4306\n",
      "Epoch 15/100\n",
      "\u001b[1m200/200\u001b[0m \u001b[32m━━━━━━━━━━━━━━━━━━━━\u001b[0m\u001b[37m\u001b[0m \u001b[1m0s\u001b[0m 1ms/step - loss: 0.4332 - val_loss: 0.4297\n",
      "Epoch 16/100\n",
      "\u001b[1m200/200\u001b[0m \u001b[32m━━━━━━━━━━━━━━━━━━━━\u001b[0m\u001b[37m\u001b[0m \u001b[1m0s\u001b[0m 1ms/step - loss: 0.4099 - val_loss: 0.4288\n",
      "Epoch 17/100\n",
      "\u001b[1m200/200\u001b[0m \u001b[32m━━━━━━━━━━━━━━━━━━━━\u001b[0m\u001b[37m\u001b[0m \u001b[1m0s\u001b[0m 1ms/step - loss: 0.4244 - val_loss: 0.4279\n",
      "Epoch 18/100\n",
      "\u001b[1m200/200\u001b[0m \u001b[32m━━━━━━━━━━━━━━━━━━━━\u001b[0m\u001b[37m\u001b[0m \u001b[1m0s\u001b[0m 2ms/step - loss: 0.4289 - val_loss: 0.4271\n",
      "Epoch 19/100\n",
      "\u001b[1m200/200\u001b[0m \u001b[32m━━━━━━━━━━━━━━━━━━━━\u001b[0m\u001b[37m\u001b[0m \u001b[1m0s\u001b[0m 1ms/step - loss: 0.4380 - val_loss: 0.4262\n",
      "Epoch 20/100\n",
      "\u001b[1m200/200\u001b[0m \u001b[32m━━━━━━━━━━━━━━━━━━━━\u001b[0m\u001b[37m\u001b[0m \u001b[1m0s\u001b[0m 1ms/step - loss: 0.4223 - val_loss: 0.4254\n",
      "Epoch 21/100\n",
      "\u001b[1m200/200\u001b[0m \u001b[32m━━━━━━━━━━━━━━━━━━━━\u001b[0m\u001b[37m\u001b[0m \u001b[1m0s\u001b[0m 1ms/step - loss: 0.4270 - val_loss: 0.4246\n",
      "Epoch 22/100\n",
      "\u001b[1m200/200\u001b[0m \u001b[32m━━━━━━━━━━━━━━━━━━━━\u001b[0m\u001b[37m\u001b[0m \u001b[1m0s\u001b[0m 1ms/step - loss: 0.4199 - val_loss: 0.4239\n",
      "Epoch 23/100\n",
      "\u001b[1m200/200\u001b[0m \u001b[32m━━━━━━━━━━━━━━━━━━━━\u001b[0m\u001b[37m\u001b[0m \u001b[1m0s\u001b[0m 1ms/step - loss: 0.4235 - val_loss: 0.4231\n",
      "Epoch 24/100\n",
      "\u001b[1m200/200\u001b[0m \u001b[32m━━━━━━━━━━━━━━━━━━━━\u001b[0m\u001b[37m\u001b[0m \u001b[1m0s\u001b[0m 1ms/step - loss: 0.4150 - val_loss: 0.4225\n",
      "Epoch 25/100\n",
      "\u001b[1m200/200\u001b[0m \u001b[32m━━━━━━━━━━━━━━━━━━━━\u001b[0m\u001b[37m\u001b[0m \u001b[1m0s\u001b[0m 1ms/step - loss: 0.4194 - val_loss: 0.4217\n",
      "Epoch 26/100\n",
      "\u001b[1m200/200\u001b[0m \u001b[32m━━━━━━━━━━━━━━━━━━━━\u001b[0m\u001b[37m\u001b[0m \u001b[1m0s\u001b[0m 1ms/step - loss: 0.4159 - val_loss: 0.4212\n",
      "Epoch 27/100\n",
      "\u001b[1m200/200\u001b[0m \u001b[32m━━━━━━━━━━━━━━━━━━━━\u001b[0m\u001b[37m\u001b[0m \u001b[1m0s\u001b[0m 1ms/step - loss: 0.4132 - val_loss: 0.4207\n",
      "Epoch 28/100\n",
      "\u001b[1m200/200\u001b[0m \u001b[32m━━━━━━━━━━━━━━━━━━━━\u001b[0m\u001b[37m\u001b[0m \u001b[1m0s\u001b[0m 1ms/step - loss: 0.4059 - val_loss: 0.4202\n",
      "Epoch 29/100\n",
      "\u001b[1m200/200\u001b[0m \u001b[32m━━━━━━━━━━━━━━━━━━━━\u001b[0m\u001b[37m\u001b[0m \u001b[1m0s\u001b[0m 1ms/step - loss: 0.4116 - val_loss: 0.4198\n",
      "Epoch 30/100\n",
      "\u001b[1m200/200\u001b[0m \u001b[32m━━━━━━━━━━━━━━━━━━━━\u001b[0m\u001b[37m\u001b[0m \u001b[1m0s\u001b[0m 1ms/step - loss: 0.4166 - val_loss: 0.4192\n",
      "Epoch 31/100\n",
      "\u001b[1m200/200\u001b[0m \u001b[32m━━━━━━━━━━━━━━━━━━━━\u001b[0m\u001b[37m\u001b[0m \u001b[1m0s\u001b[0m 2ms/step - loss: 0.4172 - val_loss: 0.4188\n",
      "Epoch 32/100\n",
      "\u001b[1m200/200\u001b[0m \u001b[32m━━━━━━━━━━━━━━━━━━━━\u001b[0m\u001b[37m\u001b[0m \u001b[1m0s\u001b[0m 2ms/step - loss: 0.4214 - val_loss: 0.4184\n",
      "Epoch 33/100\n",
      "\u001b[1m200/200\u001b[0m \u001b[32m━━━━━━━━━━━━━━━━━━━━\u001b[0m\u001b[37m\u001b[0m \u001b[1m0s\u001b[0m 2ms/step - loss: 0.4257 - val_loss: 0.4181\n",
      "Epoch 34/100\n",
      "\u001b[1m200/200\u001b[0m \u001b[32m━━━━━━━━━━━━━━━━━━━━\u001b[0m\u001b[37m\u001b[0m \u001b[1m0s\u001b[0m 2ms/step - loss: 0.4130 - val_loss: 0.4177\n",
      "Epoch 35/100\n",
      "\u001b[1m200/200\u001b[0m \u001b[32m━━━━━━━━━━━━━━━━━━━━\u001b[0m\u001b[37m\u001b[0m \u001b[1m0s\u001b[0m 1ms/step - loss: 0.4111 - val_loss: 0.4174\n",
      "Epoch 36/100\n",
      "\u001b[1m200/200\u001b[0m \u001b[32m━━━━━━━━━━━━━━━━━━━━\u001b[0m\u001b[37m\u001b[0m \u001b[1m0s\u001b[0m 1ms/step - loss: 0.4103 - val_loss: 0.4171\n",
      "Epoch 37/100\n",
      "\u001b[1m200/200\u001b[0m \u001b[32m━━━━━━━━━━━━━━━━━━━━\u001b[0m\u001b[37m\u001b[0m \u001b[1m0s\u001b[0m 1ms/step - loss: 0.4037 - val_loss: 0.4168\n",
      "Epoch 38/100\n",
      "\u001b[1m200/200\u001b[0m \u001b[32m━━━━━━━━━━━━━━━━━━━━\u001b[0m\u001b[37m\u001b[0m \u001b[1m0s\u001b[0m 1ms/step - loss: 0.4178 - val_loss: 0.4165\n",
      "Epoch 39/100\n",
      "\u001b[1m200/200\u001b[0m \u001b[32m━━━━━━━━━━━━━━━━━━━━\u001b[0m\u001b[37m\u001b[0m \u001b[1m0s\u001b[0m 1ms/step - loss: 0.4001 - val_loss: 0.4162\n",
      "Epoch 40/100\n",
      "\u001b[1m200/200\u001b[0m \u001b[32m━━━━━━━━━━━━━━━━━━━━\u001b[0m\u001b[37m\u001b[0m \u001b[1m0s\u001b[0m 1ms/step - loss: 0.4028 - val_loss: 0.4160\n",
      "Epoch 41/100\n",
      "\u001b[1m200/200\u001b[0m \u001b[32m━━━━━━━━━━━━━━━━━━━━\u001b[0m\u001b[37m\u001b[0m \u001b[1m0s\u001b[0m 1ms/step - loss: 0.4130 - val_loss: 0.4157\n",
      "Epoch 42/100\n",
      "\u001b[1m200/200\u001b[0m \u001b[32m━━━━━━━━━━━━━━━━━━━━\u001b[0m\u001b[37m\u001b[0m \u001b[1m0s\u001b[0m 1ms/step - loss: 0.4246 - val_loss: 0.4156\n",
      "Epoch 43/100\n",
      "\u001b[1m200/200\u001b[0m \u001b[32m━━━━━━━━━━━━━━━━━━━━\u001b[0m\u001b[37m\u001b[0m \u001b[1m0s\u001b[0m 1ms/step - loss: 0.4180 - val_loss: 0.4153\n",
      "Epoch 44/100\n",
      "\u001b[1m200/200\u001b[0m \u001b[32m━━━━━━━━━━━━━━━━━━━━\u001b[0m\u001b[37m\u001b[0m \u001b[1m0s\u001b[0m 1ms/step - loss: 0.4110 - val_loss: 0.4151\n",
      "Epoch 45/100\n",
      "\u001b[1m200/200\u001b[0m \u001b[32m━━━━━━━━━━━━━━━━━━━━\u001b[0m\u001b[37m\u001b[0m \u001b[1m0s\u001b[0m 1ms/step - loss: 0.4188 - val_loss: 0.4149\n",
      "Epoch 46/100\n",
      "\u001b[1m200/200\u001b[0m \u001b[32m━━━━━━━━━━━━━━━━━━━━\u001b[0m\u001b[37m\u001b[0m \u001b[1m0s\u001b[0m 1ms/step - loss: 0.4179 - val_loss: 0.4148\n",
      "Epoch 47/100\n",
      "\u001b[1m200/200\u001b[0m \u001b[32m━━━━━━━━━━━━━━━━━━━━\u001b[0m\u001b[37m\u001b[0m \u001b[1m0s\u001b[0m 1ms/step - loss: 0.4101 - val_loss: 0.4147\n",
      "Epoch 48/100\n",
      "\u001b[1m200/200\u001b[0m \u001b[32m━━━━━━━━━━━━━━━━━━━━\u001b[0m\u001b[37m\u001b[0m \u001b[1m0s\u001b[0m 1ms/step - loss: 0.3978 - val_loss: 0.4144\n",
      "Epoch 49/100\n",
      "\u001b[1m200/200\u001b[0m \u001b[32m━━━━━━━━━━━━━━━━━━━━\u001b[0m\u001b[37m\u001b[0m \u001b[1m0s\u001b[0m 1ms/step - loss: 0.4112 - val_loss: 0.4142\n",
      "Epoch 50/100\n",
      "\u001b[1m200/200\u001b[0m \u001b[32m━━━━━━━━━━━━━━━━━━━━\u001b[0m\u001b[37m\u001b[0m \u001b[1m0s\u001b[0m 1ms/step - loss: 0.4097 - val_loss: 0.4142\n",
      "Epoch 51/100\n",
      "\u001b[1m200/200\u001b[0m \u001b[32m━━━━━━━━━━━━━━━━━━━━\u001b[0m\u001b[37m\u001b[0m \u001b[1m0s\u001b[0m 1ms/step - loss: 0.4146 - val_loss: 0.4141\n",
      "Epoch 52/100\n",
      "\u001b[1m200/200\u001b[0m \u001b[32m━━━━━━━━━━━━━━━━━━━━\u001b[0m\u001b[37m\u001b[0m \u001b[1m0s\u001b[0m 1ms/step - loss: 0.4033 - val_loss: 0.4140\n",
      "Epoch 53/100\n",
      "\u001b[1m200/200\u001b[0m \u001b[32m━━━━━━━━━━━━━━━━━━━━\u001b[0m\u001b[37m\u001b[0m \u001b[1m0s\u001b[0m 1ms/step - loss: 0.4127 - val_loss: 0.4138\n",
      "Epoch 54/100\n",
      "\u001b[1m200/200\u001b[0m \u001b[32m━━━━━━━━━━━━━━━━━━━━\u001b[0m\u001b[37m\u001b[0m \u001b[1m0s\u001b[0m 1ms/step - loss: 0.4160 - val_loss: 0.4137\n",
      "Epoch 55/100\n",
      "\u001b[1m200/200\u001b[0m \u001b[32m━━━━━━━━━━━━━━━━━━━━\u001b[0m\u001b[37m\u001b[0m \u001b[1m0s\u001b[0m 1ms/step - loss: 0.4161 - val_loss: 0.4136\n",
      "Epoch 56/100\n",
      "\u001b[1m200/200\u001b[0m \u001b[32m━━━━━━━━━━━━━━━━━━━━\u001b[0m\u001b[37m\u001b[0m \u001b[1m0s\u001b[0m 1ms/step - loss: 0.4160 - val_loss: 0.4134\n",
      "Epoch 57/100\n",
      "\u001b[1m200/200\u001b[0m \u001b[32m━━━━━━━━━━━━━━━━━━━━\u001b[0m\u001b[37m\u001b[0m \u001b[1m0s\u001b[0m 1ms/step - loss: 0.4013 - val_loss: 0.4133\n",
      "Epoch 58/100\n",
      "\u001b[1m200/200\u001b[0m \u001b[32m━━━━━━━━━━━━━━━━━━━━\u001b[0m\u001b[37m\u001b[0m \u001b[1m0s\u001b[0m 1ms/step - loss: 0.4055 - val_loss: 0.4133\n",
      "Epoch 59/100\n",
      "\u001b[1m200/200\u001b[0m \u001b[32m━━━━━━━━━━━━━━━━━━━━\u001b[0m\u001b[37m\u001b[0m \u001b[1m0s\u001b[0m 1ms/step - loss: 0.4125 - val_loss: 0.4131\n",
      "Epoch 60/100\n",
      "\u001b[1m200/200\u001b[0m \u001b[32m━━━━━━━━━━━━━━━━━━━━\u001b[0m\u001b[37m\u001b[0m \u001b[1m0s\u001b[0m 1ms/step - loss: 0.4118 - val_loss: 0.4130\n",
      "Epoch 61/100\n",
      "\u001b[1m200/200\u001b[0m \u001b[32m━━━━━━━━━━━━━━━━━━━━\u001b[0m\u001b[37m\u001b[0m \u001b[1m0s\u001b[0m 1ms/step - loss: 0.4082 - val_loss: 0.4129\n",
      "Epoch 62/100\n",
      "\u001b[1m200/200\u001b[0m \u001b[32m━━━━━━━━━━━━━━━━━━━━\u001b[0m\u001b[37m\u001b[0m \u001b[1m0s\u001b[0m 1ms/step - loss: 0.4057 - val_loss: 0.4129\n",
      "Epoch 63/100\n",
      "\u001b[1m200/200\u001b[0m \u001b[32m━━━━━━━━━━━━━━━━━━━━\u001b[0m\u001b[37m\u001b[0m \u001b[1m0s\u001b[0m 1ms/step - loss: 0.3969 - val_loss: 0.4128\n",
      "Epoch 64/100\n",
      "\u001b[1m200/200\u001b[0m \u001b[32m━━━━━━━━━━━━━━━━━━━━\u001b[0m\u001b[37m\u001b[0m \u001b[1m0s\u001b[0m 1ms/step - loss: 0.4079 - val_loss: 0.4127\n",
      "Epoch 65/100\n",
      "\u001b[1m200/200\u001b[0m \u001b[32m━━━━━━━━━━━━━━━━━━━━\u001b[0m\u001b[37m\u001b[0m \u001b[1m0s\u001b[0m 1ms/step - loss: 0.3897 - val_loss: 0.4127\n",
      "Epoch 66/100\n",
      "\u001b[1m200/200\u001b[0m \u001b[32m━━━━━━━━━━━━━━━━━━━━\u001b[0m\u001b[37m\u001b[0m \u001b[1m0s\u001b[0m 1ms/step - loss: 0.3989 - val_loss: 0.4126\n",
      "Epoch 67/100\n",
      "\u001b[1m200/200\u001b[0m \u001b[32m━━━━━━━━━━━━━━━━━━━━\u001b[0m\u001b[37m\u001b[0m \u001b[1m0s\u001b[0m 1ms/step - loss: 0.4139 - val_loss: 0.4125\n",
      "Epoch 68/100\n",
      "\u001b[1m200/200\u001b[0m \u001b[32m━━━━━━━━━━━━━━━━━━━━\u001b[0m\u001b[37m\u001b[0m \u001b[1m0s\u001b[0m 1ms/step - loss: 0.4002 - val_loss: 0.4125\n",
      "Epoch 69/100\n",
      "\u001b[1m200/200\u001b[0m \u001b[32m━━━━━━━━━━━━━━━━━━━━\u001b[0m\u001b[37m\u001b[0m \u001b[1m0s\u001b[0m 1ms/step - loss: 0.4076 - val_loss: 0.4124\n",
      "Epoch 70/100\n",
      "\u001b[1m200/200\u001b[0m \u001b[32m━━━━━━━━━━━━━━━━━━━━\u001b[0m\u001b[37m\u001b[0m \u001b[1m0s\u001b[0m 1ms/step - loss: 0.3996 - val_loss: 0.4123\n",
      "Epoch 71/100\n",
      "\u001b[1m200/200\u001b[0m \u001b[32m━━━━━━━━━━━━━━━━━━━━\u001b[0m\u001b[37m\u001b[0m \u001b[1m0s\u001b[0m 1ms/step - loss: 0.4059 - val_loss: 0.4123\n",
      "Epoch 72/100\n",
      "\u001b[1m200/200\u001b[0m \u001b[32m━━━━━━━━━━━━━━━━━━━━\u001b[0m\u001b[37m\u001b[0m \u001b[1m0s\u001b[0m 2ms/step - loss: 0.4039 - val_loss: 0.4122\n",
      "Epoch 73/100\n",
      "\u001b[1m200/200\u001b[0m \u001b[32m━━━━━━━━━━━━━━━━━━━━\u001b[0m\u001b[37m\u001b[0m \u001b[1m0s\u001b[0m 2ms/step - loss: 0.4013 - val_loss: 0.4122\n",
      "Epoch 74/100\n",
      "\u001b[1m200/200\u001b[0m \u001b[32m━━━━━━━━━━━━━━━━━━━━\u001b[0m\u001b[37m\u001b[0m \u001b[1m0s\u001b[0m 1ms/step - loss: 0.3955 - val_loss: 0.4121\n",
      "Epoch 75/100\n",
      "\u001b[1m200/200\u001b[0m \u001b[32m━━━━━━━━━━━━━━━━━━━━\u001b[0m\u001b[37m\u001b[0m \u001b[1m0s\u001b[0m 1ms/step - loss: 0.3977 - val_loss: 0.4121\n",
      "Epoch 76/100\n",
      "\u001b[1m200/200\u001b[0m \u001b[32m━━━━━━━━━━━━━━━━━━━━\u001b[0m\u001b[37m\u001b[0m \u001b[1m0s\u001b[0m 2ms/step - loss: 0.3980 - val_loss: 0.4121\n",
      "Epoch 77/100\n",
      "\u001b[1m200/200\u001b[0m \u001b[32m━━━━━━━━━━━━━━━━━━━━\u001b[0m\u001b[37m\u001b[0m \u001b[1m0s\u001b[0m 2ms/step - loss: 0.4220 - val_loss: 0.4121\n",
      "Epoch 78/100\n",
      "\u001b[1m200/200\u001b[0m \u001b[32m━━━━━━━━━━━━━━━━━━━━\u001b[0m\u001b[37m\u001b[0m \u001b[1m0s\u001b[0m 2ms/step - loss: 0.4083 - val_loss: 0.4121\n",
      "Epoch 79/100\n",
      "\u001b[1m200/200\u001b[0m \u001b[32m━━━━━━━━━━━━━━━━━━━━\u001b[0m\u001b[37m\u001b[0m \u001b[1m0s\u001b[0m 1ms/step - loss: 0.3937 - val_loss: 0.4120\n",
      "Epoch 80/100\n",
      "\u001b[1m200/200\u001b[0m \u001b[32m━━━━━━━━━━━━━━━━━━━━\u001b[0m\u001b[37m\u001b[0m \u001b[1m0s\u001b[0m 1ms/step - loss: 0.4034 - val_loss: 0.4119\n",
      "Epoch 81/100\n",
      "\u001b[1m200/200\u001b[0m \u001b[32m━━━━━━━━━━━━━━━━━━━━\u001b[0m\u001b[37m\u001b[0m \u001b[1m0s\u001b[0m 1ms/step - loss: 0.4025 - val_loss: 0.4119\n",
      "Epoch 82/100\n",
      "\u001b[1m200/200\u001b[0m \u001b[32m━━━━━━━━━━━━━━━━━━━━\u001b[0m\u001b[37m\u001b[0m \u001b[1m0s\u001b[0m 1ms/step - loss: 0.4045 - val_loss: 0.4118\n",
      "Epoch 83/100\n",
      "\u001b[1m200/200\u001b[0m \u001b[32m━━━━━━━━━━━━━━━━━━━━\u001b[0m\u001b[37m\u001b[0m \u001b[1m0s\u001b[0m 2ms/step - loss: 0.4049 - val_loss: 0.4118\n",
      "Epoch 84/100\n",
      "\u001b[1m200/200\u001b[0m \u001b[32m━━━━━━━━━━━━━━━━━━━━\u001b[0m\u001b[37m\u001b[0m \u001b[1m0s\u001b[0m 1ms/step - loss: 0.4024 - val_loss: 0.4119\n",
      "Epoch 85/100\n",
      "\u001b[1m200/200\u001b[0m \u001b[32m━━━━━━━━━━━━━━━━━━━━\u001b[0m\u001b[37m\u001b[0m \u001b[1m0s\u001b[0m 1ms/step - loss: 0.4002 - val_loss: 0.4118\n",
      "Epoch 86/100\n",
      "\u001b[1m200/200\u001b[0m \u001b[32m━━━━━━━━━━━━━━━━━━━━\u001b[0m\u001b[37m\u001b[0m \u001b[1m0s\u001b[0m 1ms/step - loss: 0.3920 - val_loss: 0.4117\n",
      "Epoch 87/100\n",
      "\u001b[1m200/200\u001b[0m \u001b[32m━━━━━━━━━━━━━━━━━━━━\u001b[0m\u001b[37m\u001b[0m \u001b[1m0s\u001b[0m 1ms/step - loss: 0.4070 - val_loss: 0.4118\n",
      "Epoch 88/100\n",
      "\u001b[1m200/200\u001b[0m \u001b[32m━━━━━━━━━━━━━━━━━━━━\u001b[0m\u001b[37m\u001b[0m \u001b[1m0s\u001b[0m 1ms/step - loss: 0.4012 - val_loss: 0.4117\n",
      "Epoch 89/100\n",
      "\u001b[1m200/200\u001b[0m \u001b[32m━━━━━━━━━━━━━━━━━━━━\u001b[0m\u001b[37m\u001b[0m \u001b[1m0s\u001b[0m 2ms/step - loss: 0.4079 - val_loss: 0.4117\n",
      "Epoch 90/100\n",
      "\u001b[1m200/200\u001b[0m \u001b[32m━━━━━━━━━━━━━━━━━━━━\u001b[0m\u001b[37m\u001b[0m \u001b[1m0s\u001b[0m 1ms/step - loss: 0.4015 - val_loss: 0.4117\n",
      "Epoch 91/100\n",
      "\u001b[1m200/200\u001b[0m \u001b[32m━━━━━━━━━━━━━━━━━━━━\u001b[0m\u001b[37m\u001b[0m \u001b[1m0s\u001b[0m 1ms/step - loss: 0.4115 - val_loss: 0.4117\n",
      "Epoch 92/100\n",
      "\u001b[1m200/200\u001b[0m \u001b[32m━━━━━━━━━━━━━━━━━━━━\u001b[0m\u001b[37m\u001b[0m \u001b[1m0s\u001b[0m 1ms/step - loss: 0.3989 - val_loss: 0.4116\n",
      "Epoch 93/100\n",
      "\u001b[1m200/200\u001b[0m \u001b[32m━━━━━━━━━━━━━━━━━━━━\u001b[0m\u001b[37m\u001b[0m \u001b[1m0s\u001b[0m 2ms/step - loss: 0.3971 - val_loss: 0.4116\n",
      "Epoch 94/100\n",
      "\u001b[1m200/200\u001b[0m \u001b[32m━━━━━━━━━━━━━━━━━━━━\u001b[0m\u001b[37m\u001b[0m \u001b[1m0s\u001b[0m 1ms/step - loss: 0.3996 - val_loss: 0.4116\n",
      "Epoch 95/100\n",
      "\u001b[1m200/200\u001b[0m \u001b[32m━━━━━━━━━━━━━━━━━━━━\u001b[0m\u001b[37m\u001b[0m \u001b[1m0s\u001b[0m 1ms/step - loss: 0.4168 - val_loss: 0.4116\n",
      "Epoch 96/100\n",
      "\u001b[1m200/200\u001b[0m \u001b[32m━━━━━━━━━━━━━━━━━━━━\u001b[0m\u001b[37m\u001b[0m \u001b[1m0s\u001b[0m 1ms/step - loss: 0.4051 - val_loss: 0.4115\n",
      "Epoch 97/100\n",
      "\u001b[1m200/200\u001b[0m \u001b[32m━━━━━━━━━━━━━━━━━━━━\u001b[0m\u001b[37m\u001b[0m \u001b[1m0s\u001b[0m 1ms/step - loss: 0.4076 - val_loss: 0.4116\n",
      "Epoch 98/100\n",
      "\u001b[1m200/200\u001b[0m \u001b[32m━━━━━━━━━━━━━━━━━━━━\u001b[0m\u001b[37m\u001b[0m \u001b[1m0s\u001b[0m 1ms/step - loss: 0.4026 - val_loss: 0.4116\n",
      "Epoch 99/100\n",
      "\u001b[1m200/200\u001b[0m \u001b[32m━━━━━━━━━━━━━━━━━━━━\u001b[0m\u001b[37m\u001b[0m \u001b[1m0s\u001b[0m 1ms/step - loss: 0.4028 - val_loss: 0.4116\n",
      "Epoch 100/100\n",
      "\u001b[1m200/200\u001b[0m \u001b[32m━━━━━━━━━━━━━━━━━━━━\u001b[0m\u001b[37m\u001b[0m \u001b[1m0s\u001b[0m 1ms/step - loss: 0.4096 - val_loss: 0.4115\n"
     ]
    }
   ],
   "source": [
    "history= model.fit(X_train_scaled,y_train,epochs=100, validation_split=0.2)"
   ]
  },
  {
   "cell_type": "code",
   "execution_count": 24,
   "id": "2cb4c883",
   "metadata": {
    "execution": {
     "iopub.execute_input": "2025-03-10T13:20:30.087571Z",
     "iopub.status.busy": "2025-03-10T13:20:30.087224Z",
     "iopub.status.idle": "2025-03-10T13:20:30.097267Z",
     "shell.execute_reply": "2025-03-10T13:20:30.096269Z"
    },
    "papermill": {
     "duration": 0.060009,
     "end_time": "2025-03-10T13:20:30.098953",
     "exception": false,
     "start_time": "2025-03-10T13:20:30.038944",
     "status": "completed"
    },
    "tags": []
   },
   "outputs": [
    {
     "data": {
      "text/plain": [
       "[array([[ 0.09321105, -0.06492373,  0.18628532],\n",
       "        [-2.005259  ,  0.20945203, -3.7194545 ],\n",
       "        [ 0.08241256,  0.16444433, -0.07440527],\n",
       "        [-0.61741906, -0.5680746 ,  0.21855345],\n",
       "        [-0.06055554,  0.251722  ,  0.03550006],\n",
       "        [ 0.67756397,  0.07746308, -0.32076877],\n",
       "        [-0.01552757,  2.4864314 , -1.1595774 ],\n",
       "        [-0.62457454, -0.06613103,  0.29423368],\n",
       "        [-0.96021086, -0.6135735 , -0.19896404],\n",
       "        [ 0.513409  , -0.09315898, -0.4147076 ],\n",
       "        [ 0.5792486 ,  0.7931621 ,  0.02710383]], dtype=float32),\n",
       " array([-0.1204917 , -0.16492178,  0.408706  ], dtype=float32)]"
      ]
     },
     "execution_count": 24,
     "metadata": {},
     "output_type": "execute_result"
    }
   ],
   "source": [
    "model.layers[0].get_weights()\n",
    "#yaha se we will get our weights and the last array is of bias values. total 36 "
   ]
  },
  {
   "cell_type": "code",
   "execution_count": 25,
   "id": "54f5739a",
   "metadata": {
    "execution": {
     "iopub.execute_input": "2025-03-10T13:20:30.195158Z",
     "iopub.status.busy": "2025-03-10T13:20:30.194769Z",
     "iopub.status.idle": "2025-03-10T13:20:30.204366Z",
     "shell.execute_reply": "2025-03-10T13:20:30.203143Z"
    },
    "papermill": {
     "duration": 0.059417,
     "end_time": "2025-03-10T13:20:30.206043",
     "exception": false,
     "start_time": "2025-03-10T13:20:30.146626",
     "status": "completed"
    },
    "tags": []
   },
   "outputs": [
    {
     "data": {
      "text/plain": [
       "[array([[-1.1272218],\n",
       "        [-2.084089 ],\n",
       "        [-2.1323261]], dtype=float32),\n",
       " array([1.0901285], dtype=float32)]"
      ]
     },
     "execution_count": 25,
     "metadata": {},
     "output_type": "execute_result"
    }
   ],
   "source": [
    "model.layers[1].get_weights()"
   ]
  },
  {
   "cell_type": "raw",
   "id": "494eb821",
   "metadata": {
    "papermill": {
     "duration": 0.047301,
     "end_time": "2025-03-10T13:20:30.299451",
     "exception": false,
     "start_time": "2025-03-10T13:20:30.252150",
     "status": "completed"
    },
    "tags": []
   },
   "source": [
    "Now our model is ready to predict our data...:"
   ]
  },
  {
   "cell_type": "code",
   "execution_count": 26,
   "id": "75f83988",
   "metadata": {
    "execution": {
     "iopub.execute_input": "2025-03-10T13:20:30.394066Z",
     "iopub.status.busy": "2025-03-10T13:20:30.393663Z",
     "iopub.status.idle": "2025-03-10T13:20:30.615363Z",
     "shell.execute_reply": "2025-03-10T13:20:30.614378Z"
    },
    "papermill": {
     "duration": 0.270993,
     "end_time": "2025-03-10T13:20:30.617252",
     "exception": false,
     "start_time": "2025-03-10T13:20:30.346259",
     "status": "completed"
    },
    "tags": []
   },
   "outputs": [
    {
     "name": "stdout",
     "output_type": "stream",
     "text": [
      "\u001b[1m63/63\u001b[0m \u001b[32m━━━━━━━━━━━━━━━━━━━━\u001b[0m\u001b[37m\u001b[0m \u001b[1m0s\u001b[0m 1ms/step  \n"
     ]
    }
   ],
   "source": [
    "y_log = model.predict(X_test_scaled)"
   ]
  },
  {
   "cell_type": "code",
   "execution_count": 27,
   "id": "f28053e2",
   "metadata": {
    "execution": {
     "iopub.execute_input": "2025-03-10T13:20:30.711713Z",
     "iopub.status.busy": "2025-03-10T13:20:30.711362Z",
     "iopub.status.idle": "2025-03-10T13:20:30.717487Z",
     "shell.execute_reply": "2025-03-10T13:20:30.716647Z"
    },
    "papermill": {
     "duration": 0.054912,
     "end_time": "2025-03-10T13:20:30.718912",
     "exception": false,
     "start_time": "2025-03-10T13:20:30.664000",
     "status": "completed"
    },
    "tags": []
   },
   "outputs": [
    {
     "data": {
      "text/plain": [
       "array([[0],\n",
       "       [0],\n",
       "       [0],\n",
       "       ...,\n",
       "       [0],\n",
       "       [0],\n",
       "       [0]])"
      ]
     },
     "execution_count": 27,
     "metadata": {},
     "output_type": "execute_result"
    }
   ],
   "source": [
    "y_pred= np.where(y_log>0.5,1,0)\n",
    "y_pred"
   ]
  },
  {
   "cell_type": "code",
   "execution_count": 28,
   "id": "a08c5339",
   "metadata": {
    "execution": {
     "iopub.execute_input": "2025-03-10T13:20:30.870079Z",
     "iopub.status.busy": "2025-03-10T13:20:30.869626Z",
     "iopub.status.idle": "2025-03-10T13:20:30.877224Z",
     "shell.execute_reply": "2025-03-10T13:20:30.876289Z"
    },
    "papermill": {
     "duration": 0.056234,
     "end_time": "2025-03-10T13:20:30.878776",
     "exception": false,
     "start_time": "2025-03-10T13:20:30.822542",
     "status": "completed"
    },
    "tags": []
   },
   "outputs": [
    {
     "data": {
      "text/plain": [
       "0.8315"
      ]
     },
     "execution_count": 28,
     "metadata": {},
     "output_type": "execute_result"
    }
   ],
   "source": [
    "from sklearn.metrics import accuracy_score\n",
    "accuracy_score(y_test,y_pred)"
   ]
  },
  {
   "cell_type": "code",
   "execution_count": 29,
   "id": "d9d9669e",
   "metadata": {
    "execution": {
     "iopub.execute_input": "2025-03-10T13:20:30.975101Z",
     "iopub.status.busy": "2025-03-10T13:20:30.974676Z",
     "iopub.status.idle": "2025-03-10T13:20:30.978944Z",
     "shell.execute_reply": "2025-03-10T13:20:30.977915Z"
    },
    "papermill": {
     "duration": 0.05399,
     "end_time": "2025-03-10T13:20:30.980746",
     "exception": false,
     "start_time": "2025-03-10T13:20:30.926756",
     "status": "completed"
    },
    "tags": []
   },
   "outputs": [],
   "source": [
    "import matplotlib.pyplot as plt"
   ]
  },
  {
   "cell_type": "code",
   "execution_count": 30,
   "id": "46a33039",
   "metadata": {
    "execution": {
     "iopub.execute_input": "2025-03-10T13:20:31.075978Z",
     "iopub.status.busy": "2025-03-10T13:20:31.075601Z",
     "iopub.status.idle": "2025-03-10T13:20:31.083045Z",
     "shell.execute_reply": "2025-03-10T13:20:31.082115Z"
    },
    "papermill": {
     "duration": 0.056685,
     "end_time": "2025-03-10T13:20:31.084670",
     "exception": false,
     "start_time": "2025-03-10T13:20:31.027985",
     "status": "completed"
    },
    "tags": []
   },
   "outputs": [
    {
     "data": {
      "text/plain": [
       "{'loss': [0.5034496784210205,\n",
       "  0.4740810692310333,\n",
       "  0.46042779088020325,\n",
       "  0.45167088508605957,\n",
       "  0.44515982270240784,\n",
       "  0.4402788281440735,\n",
       "  0.43663880228996277,\n",
       "  0.4338230788707733,\n",
       "  0.43173080682754517,\n",
       "  0.42997458577156067,\n",
       "  0.4286485016345978,\n",
       "  0.4275718927383423,\n",
       "  0.42658665776252747,\n",
       "  0.4257551431655884,\n",
       "  0.4249821901321411,\n",
       "  0.4242545962333679,\n",
       "  0.4234660267829895,\n",
       "  0.422748327255249,\n",
       "  0.4221132695674896,\n",
       "  0.42130815982818604,\n",
       "  0.4206660985946655,\n",
       "  0.4199486970901489,\n",
       "  0.4193252921104431,\n",
       "  0.418618381023407,\n",
       "  0.41805189847946167,\n",
       "  0.4174758493900299,\n",
       "  0.4169604480266571,\n",
       "  0.41645297408103943,\n",
       "  0.41598090529441833,\n",
       "  0.4155665636062622,\n",
       "  0.4150708019733429,\n",
       "  0.4145721197128296,\n",
       "  0.4141802489757538,\n",
       "  0.413781076669693,\n",
       "  0.41341811418533325,\n",
       "  0.4130300283432007,\n",
       "  0.4126811921596527,\n",
       "  0.4123093783855438,\n",
       "  0.4119514226913452,\n",
       "  0.4116772413253784,\n",
       "  0.4113718271255493,\n",
       "  0.41101062297821045,\n",
       "  0.4107936918735504,\n",
       "  0.41049158573150635,\n",
       "  0.4101966619491577,\n",
       "  0.4099099636077881,\n",
       "  0.40964171290397644,\n",
       "  0.4094669818878174,\n",
       "  0.40920642018318176,\n",
       "  0.4089854061603546,\n",
       "  0.40876486897468567,\n",
       "  0.4085746705532074,\n",
       "  0.40835461020469666,\n",
       "  0.40825432538986206,\n",
       "  0.40796372294425964,\n",
       "  0.4078356623649597,\n",
       "  0.4076390862464905,\n",
       "  0.40749919414520264,\n",
       "  0.4073559641838074,\n",
       "  0.4071895182132721,\n",
       "  0.4070581793785095,\n",
       "  0.4068687856197357,\n",
       "  0.4067579209804535,\n",
       "  0.40658432245254517,\n",
       "  0.4064573347568512,\n",
       "  0.4063156843185425,\n",
       "  0.4062062203884125,\n",
       "  0.4061061441898346,\n",
       "  0.40606003999710083,\n",
       "  0.4058748185634613,\n",
       "  0.40573883056640625,\n",
       "  0.40567997097969055,\n",
       "  0.4055662453174591,\n",
       "  0.4054795801639557,\n",
       "  0.40543827414512634,\n",
       "  0.40534496307373047,\n",
       "  0.4051968455314636,\n",
       "  0.4051121771335602,\n",
       "  0.40509238839149475,\n",
       "  0.4049834907054901,\n",
       "  0.4049076437950134,\n",
       "  0.40489456057548523,\n",
       "  0.4047444462776184,\n",
       "  0.40467312932014465,\n",
       "  0.4046195149421692,\n",
       "  0.404489129781723,\n",
       "  0.40447625517845154,\n",
       "  0.4044252336025238,\n",
       "  0.40433016419410706,\n",
       "  0.4042742848396301,\n",
       "  0.4042411744594574,\n",
       "  0.4041878581047058,\n",
       "  0.4041074812412262,\n",
       "  0.40404820442199707,\n",
       "  0.40398749709129333,\n",
       "  0.40394097566604614,\n",
       "  0.40389740467071533,\n",
       "  0.40386858582496643,\n",
       "  0.4037621319293976,\n",
       "  0.40375813841819763],\n",
       " 'val_loss': [0.48571786284446716,\n",
       "  0.4684954583644867,\n",
       "  0.459193617105484,\n",
       "  0.45237335562705994,\n",
       "  0.44743338227272034,\n",
       "  0.4434624910354614,\n",
       "  0.44057369232177734,\n",
       "  0.4382573366165161,\n",
       "  0.4363231360912323,\n",
       "  0.4349108040332794,\n",
       "  0.433628112077713,\n",
       "  0.43249937891960144,\n",
       "  0.4314867854118347,\n",
       "  0.43060845136642456,\n",
       "  0.42971599102020264,\n",
       "  0.4287903904914856,\n",
       "  0.42788392305374146,\n",
       "  0.427079975605011,\n",
       "  0.42620933055877686,\n",
       "  0.4254244267940521,\n",
       "  0.42457881569862366,\n",
       "  0.4238526225090027,\n",
       "  0.42309609055519104,\n",
       "  0.42250263690948486,\n",
       "  0.4217359125614166,\n",
       "  0.421237587928772,\n",
       "  0.4206652045249939,\n",
       "  0.4202127158641815,\n",
       "  0.4197828769683838,\n",
       "  0.4191935658454895,\n",
       "  0.4187575578689575,\n",
       "  0.4184090495109558,\n",
       "  0.4180993139743805,\n",
       "  0.4177008867263794,\n",
       "  0.41744014620780945,\n",
       "  0.41707053780555725,\n",
       "  0.4167952239513397,\n",
       "  0.4164997935295105,\n",
       "  0.4161921739578247,\n",
       "  0.4159720540046692,\n",
       "  0.4157106280326843,\n",
       "  0.4155827760696411,\n",
       "  0.41530391573905945,\n",
       "  0.4151412546634674,\n",
       "  0.41493651270866394,\n",
       "  0.41476738452911377,\n",
       "  0.41469958424568176,\n",
       "  0.41442063450813293,\n",
       "  0.41423389315605164,\n",
       "  0.414199560880661,\n",
       "  0.41405433416366577,\n",
       "  0.4139516353607178,\n",
       "  0.41384264826774597,\n",
       "  0.4136960506439209,\n",
       "  0.41355106234550476,\n",
       "  0.41339537501335144,\n",
       "  0.41333743929862976,\n",
       "  0.4132733941078186,\n",
       "  0.41314128041267395,\n",
       "  0.41302990913391113,\n",
       "  0.4129193127155304,\n",
       "  0.4129423499107361,\n",
       "  0.41277453303337097,\n",
       "  0.41274547576904297,\n",
       "  0.412715882062912,\n",
       "  0.4126068353652954,\n",
       "  0.4125484824180603,\n",
       "  0.41249120235443115,\n",
       "  0.4124346673488617,\n",
       "  0.4123305380344391,\n",
       "  0.4123345613479614,\n",
       "  0.4122213125228882,\n",
       "  0.41221296787261963,\n",
       "  0.4120994210243225,\n",
       "  0.41211146116256714,\n",
       "  0.4120786190032959,\n",
       "  0.41213664412498474,\n",
       "  0.4120617210865021,\n",
       "  0.41199398040771484,\n",
       "  0.41193345189094543,\n",
       "  0.41188377141952515,\n",
       "  0.41184014081954956,\n",
       "  0.4118087887763977,\n",
       "  0.4118558466434479,\n",
       "  0.4118233025074005,\n",
       "  0.41172298789024353,\n",
       "  0.41176438331604004,\n",
       "  0.4116916358470917,\n",
       "  0.4116976857185364,\n",
       "  0.4116615951061249,\n",
       "  0.41173821687698364,\n",
       "  0.41163626313209534,\n",
       "  0.4115920662879944,\n",
       "  0.41155990958213806,\n",
       "  0.4116192162036896,\n",
       "  0.4115152657032013,\n",
       "  0.41161903738975525,\n",
       "  0.41160106658935547,\n",
       "  0.41158774495124817,\n",
       "  0.4115484654903412]}"
      ]
     },
     "execution_count": 30,
     "metadata": {},
     "output_type": "execute_result"
    }
   ],
   "source": [
    "history.history"
   ]
  },
  {
   "cell_type": "code",
   "execution_count": 31,
   "id": "9f069bcb",
   "metadata": {
    "execution": {
     "iopub.execute_input": "2025-03-10T13:20:31.181512Z",
     "iopub.status.busy": "2025-03-10T13:20:31.181121Z",
     "iopub.status.idle": "2025-03-10T13:20:31.448471Z",
     "shell.execute_reply": "2025-03-10T13:20:31.447360Z"
    },
    "papermill": {
     "duration": 0.317612,
     "end_time": "2025-03-10T13:20:31.450059",
     "exception": false,
     "start_time": "2025-03-10T13:20:31.132447",
     "status": "completed"
    },
    "tags": []
   },
   "outputs": [
    {
     "data": {
      "text/plain": [
       "[<matplotlib.lines.Line2D at 0x78ffe07c4b50>]"
      ]
     },
     "execution_count": 31,
     "metadata": {},
     "output_type": "execute_result"
    },
    {
     "data": {
      "image/png": "[encoded data removed]",
      "text/plain": [
       "<Figure size 640x480 with 1 Axes>"
      ]
     },
     "metadata": {},
     "output_type": "display_data"
    }
   ],
   "source": [
    "plt.plot(history.history['loss'])\n",
    "plt.plot(history.history['val_loss'])"
   ]
  }
 ],
 "metadata": {
  "kaggle": {
   "accelerator": "none",
   "dataSources": [
    {
     "datasetId": 869651,
     "sourceId": 1481789,
     "sourceType": "datasetVersion"
    }
   ],
   "dockerImageVersionId": 30918,
   "isGpuEnabled": false,
   "isInternetEnabled": false,
   "language": "python",
   "sourceType": "notebook"
  },
  "kernelspec": {
   "display_name": "Python 3",
   "language": "python",
   "name": "python3"
  },
  "language_info": {
   "codemirror_mode": {
    "name": "ipython",
    "version": 3
   },
   "file_extension": ".py",
   "mimetype": "text/x-python",
   "name": "python",
   "nbconvert_exporter": "python",
   "pygments_lexer": "ipython3",
   "version": "3.10.12"
  },
  "papermill": {
   "default_parameters": {},
   "duration": 56.316709,
   "end_time": "2025-03-10T13:20:33.123821",
   "environment_variables": {},
   "exception": null,
   "input_path": "__notebook__.ipynb",
   "output_path": "__notebook__.ipynb",
   "parameters": {},
   "start_time": "2025-03-10T13:19:36.807112",
   "version": "2.6.0"
  }
 },
 "nbformat": 4,
 "nbformat_minor": 5
}
